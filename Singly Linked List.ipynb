{
 "cells": [
  {
   "cell_type": "markdown",
   "metadata": {},
   "source": [
    "# Node Class"
   ]
  },
  {
   "cell_type": "code",
   "execution_count": 6,
   "metadata": {},
   "outputs": [],
   "source": [
    "class Node:\n",
    "    \n",
    "    def __init__(self, data):\n",
    "            self.data = data\n",
    "            self.next = None"
   ]
  },
  {
   "cell_type": "markdown",
   "metadata": {},
   "source": [
    "# Linked List Class"
   ]
  },
  {
   "cell_type": "code",
   "execution_count": 34,
   "metadata": {},
   "outputs": [],
   "source": [
    "class LinkedList:\n",
    "\n",
    "    def __init__(self):\n",
    "        self.head = None\n",
    "\n",
    "    def printList(self):\n",
    "        current = self.head\n",
    "        while current:\n",
    "            print(current.data)\n",
    "            current = current.next\n",
    "\n",
    "    def reverseList(self):\n",
    "        current = self.head\n",
    "        prev = None\n",
    "        while current is not None:\n",
    "            next = current.next\n",
    "            current.next = prev\n",
    "            prev = current\n",
    "            current = next\n",
    "        self.head = prev\n",
    "\n",
    "    def insertStart(self, data):\n",
    "        new_node = Node(data)\n",
    "        new_node.next = self.head\n",
    "        self.head = new_node\n",
    "        return self.head\n",
    "\n",
    "    def insertEnd(self, data):\n",
    "        new_node = Node(data)\n",
    "        current = self.head\n",
    "        if current is None:\n",
    "            return Node(data)\n",
    "        while current.next is not None:\n",
    "            current = current.next\n",
    "        current.next = new_node\n",
    "\n",
    "    #insert data at given position we are passing\n",
    "    def insertPosition(self, data, index):\n",
    "        new_node = Node(data)\n",
    "        current = self.head\n",
    "        if current is None:\n",
    "            return Node(data)\n",
    "        if index == 0:\n",
    "            new_node.next = self.head\n",
    "            self.head = new_node\n",
    "            return\n",
    "        for i in range(index - 1):\n",
    "            current = current.next\n",
    "        new_node.next = current.next\n",
    "        current.next = new_node\n",
    "\n",
    "    #replace data at index with data we are passing\n",
    "    def replace(self, data, index):\n",
    "        new_node = Node(data)\n",
    "        current = self.head\n",
    "        if index == 0:\n",
    "            new_node.next = self.head.next\n",
    "            self.head = new_node\n",
    "            return\n",
    "        for i in range(index - 1):\n",
    "            current = current.next\n",
    "        new_node.next = current.next.next\n",
    "        current.next = new_node\n",
    "\n",
    "    #remove data\n",
    "    def remove(self, index):\n",
    "        current = self.head\n",
    "        if index == 0:\n",
    "            self.head = self.head.next\n",
    "            return\n",
    "        for i in range(index - 1):\n",
    "            current = current.next\n",
    "        current.next = current.next.next\n",
    "\n",
    "    #get data at given index\n",
    "    def getData(self, index):\n",
    "        current = self.head\n",
    "        for i in range(index):\n",
    "            current = current.next\n",
    "        print(\"Data at index\", index, \"is\", current.data)\n",
    "\n",
    "    def listLength(self):\n",
    "        current = self.head\n",
    "        count = 0\n",
    "        while current is not None:\n",
    "            current = current.next\n",
    "            count += 1\n",
    "        print(\"Length of list is\", count)\n",
    "\n",
    "    def hasCycle(self):\n",
    "        current = self.head\n",
    "        elements = []\n",
    "        while current:\n",
    "            if current in elements:\n",
    "                return True\n",
    "            else:\n",
    "                elements.append(current)\n",
    "            current = current.next\n",
    "        return False\n"
   ]
  },
  {
   "cell_type": "markdown",
   "metadata": {},
   "source": [
    "# Array Methods"
   ]
  },
  {
   "cell_type": "code",
   "execution_count": 61,
   "metadata": {},
   "outputs": [],
   "source": [
    "def asArray(linkedList):\n",
    "    current = linkedList.head\n",
    "    elements = []\n",
    "    while current is not None:\n",
    "        elements.append(current.data)\n",
    "        current = current.next\n",
    "    return elements\n",
    "\n",
    "\n",
    "def reverseArray(linkedList):\n",
    "    current = linkedList.head\n",
    "    elements = []\n",
    "    while current is not None:\n",
    "        elements.append(current.data)\n",
    "        current = current.next\n",
    "    elements.reverse()\n",
    "    return elements"
   ]
  },
  {
   "cell_type": "markdown",
   "metadata": {},
   "source": [
    "# Application of functions"
   ]
  },
  {
   "cell_type": "code",
   "execution_count": 51,
   "metadata": {},
   "outputs": [
    {
     "name": "stdout",
     "output_type": "stream",
     "text": [
      "1\n",
      "2\n",
      "3\n",
      "4\n",
      "5\n",
      "[1, 2, 3, 4, 5]\n"
     ]
    }
   ],
   "source": [
    "list1 = LinkedList()\n",
    "\n",
    "list1.insertStart(3)\n",
    "list1.insertStart(2)\n",
    "list1.insertStart(1)\n",
    "list1.insertEnd(4)\n",
    "list1.insertEnd(5)\n",
    "list1.printList()\n",
    "print(asArray(list1))"
   ]
  },
  {
   "cell_type": "code",
   "execution_count": 52,
   "metadata": {},
   "outputs": [
    {
     "name": "stdout",
     "output_type": "stream",
     "text": [
      "[1, 2, 3, 7, 4, 5]\n"
     ]
    }
   ],
   "source": [
    "list1.insertPosition(7, 3)\n",
    "print(asArray(list1))"
   ]
  },
  {
   "cell_type": "code",
   "execution_count": 53,
   "metadata": {},
   "outputs": [
    {
     "name": "stdout",
     "output_type": "stream",
     "text": [
      "[1, 2, 7, 4, 5]\n"
     ]
    }
   ],
   "source": [
    "list1.remove(2)\n",
    "print(asArray(list1))"
   ]
  },
  {
   "cell_type": "code",
   "execution_count": 54,
   "metadata": {},
   "outputs": [
    {
     "name": "stdout",
     "output_type": "stream",
     "text": [
      "[1, 2, 7, 4, 17]\n"
     ]
    }
   ],
   "source": [
    "list1.replace(17, 4)\n",
    "print(asArray(list1))"
   ]
  },
  {
   "cell_type": "code",
   "execution_count": 63,
   "metadata": {},
   "outputs": [
    {
     "name": "stdout",
     "output_type": "stream",
     "text": [
      "1\n",
      "2\n",
      "7\n",
      "4\n",
      "17\n",
      "[1, 2, 7, 4, 17]\n",
      "[17, 4, 7, 2, 1]\n"
     ]
    }
   ],
   "source": [
    "list1.reverseList()\n",
    "list1.printList()\n",
    "print(asArray(list1))\n",
    "print(reverseArray(list1))"
   ]
  },
  {
   "cell_type": "code",
   "execution_count": 59,
   "metadata": {},
   "outputs": [
    {
     "name": "stdout",
     "output_type": "stream",
     "text": [
      "Data at index 3 is 2\n",
      "Length of list is 5\n"
     ]
    },
    {
     "data": {
      "text/plain": [
       "False"
      ]
     },
     "execution_count": 59,
     "metadata": {},
     "output_type": "execute_result"
    }
   ],
   "source": [
    "list1.getData(3)\n",
    "list1.listLength()\n",
    "list1.hasCycle()"
   ]
  },
  {
   "cell_type": "code",
   "execution_count": null,
   "metadata": {},
   "outputs": [],
   "source": []
  }
 ],
 "metadata": {
  "kernelspec": {
   "display_name": "Python 3",
   "language": "python",
   "name": "python3"
  },
  "language_info": {
   "codemirror_mode": {
    "name": "ipython",
    "version": 3
   },
   "file_extension": ".py",
   "mimetype": "text/x-python",
   "name": "python",
   "nbconvert_exporter": "python",
   "pygments_lexer": "ipython3",
   "version": "3.6.8"
  }
 },
 "nbformat": 4,
 "nbformat_minor": 2
}
